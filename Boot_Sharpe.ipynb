{
 "cells": [
  {
   "cell_type": "markdown",
   "metadata": {},
   "source": [
    "# Sharpen Your Sharpe Ratio Analysis"
   ]
  },
  {
   "cell_type": "markdown",
   "metadata": {},
   "source": [
    "By Simon Ellersgaard Nielsen"
   ]
  },
  {
   "cell_type": "markdown",
   "metadata": {},
   "source": [
    "In 'The Statistics of the Sharpe Ratio' A. Lo famously established confidence intervals for the Sharpe ratio under the assumption of i.i.d. normal returns. See https://alo.mit.edu/wp-content/uploads/2017/06/The-Statistics-of-Sharpe-Ratios.pdf .\n",
    "\n",
    "In 'Comparing Sharpe Ratios: So Where are the p-Values?' J. Dyke went a step further and established confidence intervals for the difference between Sharpe ratios, thereby facilitating a rigorous analysis of the claim that one trading strategy is superior to another. See https://papers.ssrn.com/sol3/papers.cfm?abstract_id=886728 .\n",
    "\n",
    "While these are admirable theoretical advances, it is often as simple (and empirically more robust) to bootstrap one's way to the relevant confidence intervals. This is precisely what I set out to do here."
   ]
  },
  {
   "cell_type": "markdown",
   "metadata": {},
   "source": [
    "## Load Libraries"
   ]
  },
  {
   "cell_type": "code",
   "execution_count": 2,
   "metadata": {},
   "outputs": [],
   "source": [
    "import pandas as pd\n",
    "import numpy as np\n",
    "import matplotlib.pyplot as plt"
   ]
  },
  {
   "cell_type": "markdown",
   "metadata": {},
   "source": [
    "## Generate Correlated Returns Series "
   ]
  },
  {
   "cell_type": "markdown",
   "metadata": {},
   "source": [
    "Suppose we have two series with the following properties:"
   ]
  },
  {
   "cell_type": "code",
   "execution_count": 3,
   "metadata": {},
   "outputs": [],
   "source": [
    "N = 1000     # Observations\n",
    "mu1 = 0.05   # Mean return of series 1\n",
    "sig1 = 0.25  # Vol of series 1\n",
    "mu2 = 0.06   # Mean return of series 2\n",
    "sig2 = 0.25  # Vol of series 2\n",
    "rho = 0.75   # Correlation between return series "
   ]
  },
  {
   "cell_type": "markdown",
   "metadata": {},
   "source": [
    "We assume two geometric Brownian motions. We generate these using a Cholesky decomposition:"
   ]
  },
  {
   "cell_type": "code",
   "execution_count": 4,
   "metadata": {},
   "outputs": [],
   "source": [
    "def generate_series():\n",
    "\n",
    "    X1 = np.array(np.random.normal(0,1,N))\n",
    "    X2 = np.array(np.random.normal(0,1,N))\n",
    "    \n",
    "    W1 = mu1 + sig1*X1\n",
    "    W2 = mu2 + sig2*(rho*X1 + np.sqrt(1-pow(rho,2))*X2)\n",
    "    pnl = pd.DataFrame(np.array([W1,W2]).T,columns=['pnl1','pnl2'])\n",
    "    pnl['cum1'] = pnl['pnl1'].cumsum()\n",
    "    pnl['cum2'] = pnl['pnl2'].cumsum()\n",
    "    \n",
    "    return pnl\n",
    "\n",
    "pnl = generate_series()"
   ]
  },
  {
   "cell_type": "markdown",
   "metadata": {},
   "source": [
    "To make sure we have done the right thing, let's compute the sample parameters and plot the return series:"
   ]
  },
  {
   "cell_type": "code",
   "execution_count": 5,
   "metadata": {},
   "outputs": [
    {
     "name": "stdout",
     "output_type": "stream",
     "text": [
      "=========================================\n",
      "Mean 1   : 0.050 true vs. 0.063 estimated\n",
      "Std 1    : 0.250 true vs. 0.248 estimated\n",
      "Sharpe 1 : 3.175 true vs. 4.039 estimated\n",
      "=========================================\n",
      "Mean 2   : 0.060 true vs. 0.073 estimated\n",
      "Std 2    : 0.250 true vs. 0.248 estimated\n",
      "Sharpe 2 : 3.810 true vs. 4.658 estimated\n",
      "=========================================\n",
      "Correl   : 0.750 true vs. 0.753 estimated\n",
      "=========================================\n"
     ]
    },
    {
     "data": {
      "image/png": "[encoded data removed]",
      "text/plain": [
       "<Figure size 432x288 with 1 Axes>"
      ]
     },
     "metadata": {
      "needs_background": "light"
     },
     "output_type": "display_data"
    }
   ],
   "source": [
    "def compute_and_plot(pnl):\n",
    "    \n",
    "    emp_mean = pnl[['pnl1','pnl2']].mean(axis=0)\n",
    "    emp_std = pnl[['pnl1','pnl2']].std(axis=0)\n",
    "    emp_shrp = np.sqrt(252.0)*emp_mean/emp_std\n",
    "    emp_corr = pnl[['pnl1','pnl2']].corr(method='pearson').iloc[0,1]\n",
    "    \n",
    "    print(\"=========================================\")\n",
    "    print(\"Mean 1   : {:.3f} true vs. {:.3f} estimated\".format(mu1,emp_mean.loc['pnl1']))\n",
    "    print(\"Std 1    : {:.3f} true vs. {:.3f} estimated\".format(sig1,emp_std.loc['pnl1']))\n",
    "    print(\"Sharpe 1 : {:.3f} true vs. {:.3f} estimated\".format(np.sqrt(252.0)*mu1/sig1,emp_shrp.loc['pnl1']))\n",
    "    print(\"=========================================\")\n",
    "    print(\"Mean 2   : {:.3f} true vs. {:.3f} estimated\".format(mu2,emp_mean.loc['pnl2']))\n",
    "    print(\"Std 2    : {:.3f} true vs. {:.3f} estimated\".format(sig2,emp_std.loc['pnl2']))\n",
    "    print(\"Sharpe 2 : {:.3f} true vs. {:.3f} estimated\".format(np.sqrt(252.0)*mu2/sig2,emp_shrp.loc['pnl2']))\n",
    "    print(\"=========================================\")\n",
    "    print(\"Correl   : {:.3f} true vs. {:.3f} estimated\".format(rho,emp_corr))\n",
    "    print(\"=========================================\")\n",
    "    \n",
    "    pnl.plot(title='PnL of N({:.2f},{:.2f}), N({:.2f},{:.2f}) series, corr {:.2f}'.format(mu1,sig1,mu2,sig2,rho))\n",
    "    \n",
    "compute_and_plot(pnl)    "
   ]
  },
  {
   "cell_type": "markdown",
   "metadata": {},
   "source": [
    "This looks plausible. Notice that the vol estimates are better than the mean estimates. This shouldn't be surprising. The mean estimate is essentially a telescoping sum on the asset price level (meaning that only the first and last entry feature in the computation). Indeed, the standard error of the mean is of $O(\\sigma^2)$, whereas the standard error on the (squared) vol is $O(2*\\sigma^4)$."
   ]
  },
  {
   "cell_type": "markdown",
   "metadata": {},
   "source": [
    "## The Bootstrap"
   ]
  },
  {
   "cell_type": "markdown",
   "metadata": {},
   "source": [
    "Next, we will bootstrap our way to the sample parameters. I.e. we will sample the return series (with replacement) repeatedly and compute the parameters of interest. \n",
    "These parameters are the sample Sharpe ratio of series 1, the sample Sharpe ratio of series 2, and the difference between their sample Sharpe ratios."
   ]
  },
  {
   "cell_type": "code",
   "execution_count": 7,
   "metadata": {},
   "outputs": [],
   "source": [
    "def bootstrap(pnl,MC=1000):\n",
    "\n",
    "    \"\"\"\n",
    "    pnl is a dataframe with two correlated return series\n",
    "    MC is the number of times we sample\n",
    "    \n",
    "    In each sample we compute mu, sigma, and Sharpe for each of the two series.\n",
    "    We also compute the difference in Sharpe ratios\n",
    "    \"\"\"\n",
    "    \n",
    "    \n",
    "    Nl = pnl.shape[0]\n",
    "    \n",
    "    Q = []\n",
    "    for m in np.arange(MC):\n",
    "            \n",
    "        subset = pnl.sample(n=Nl,replace=True)\n",
    "        mu_m = subset.mean()\n",
    "        sig_m = subset.std()\n",
    "    \n",
    "        row_m = [mu_m.pnl1,\n",
    "                 sig_m.pnl1,   \n",
    "                 np.sqrt(252.0)*mu_m.pnl1/sig_m.pnl1,\n",
    "                 mu_m.pnl2,  \n",
    "                 sig_m.pnl2,\n",
    "                 np.sqrt(252.0)*mu_m.pnl2/sig_m.pnl2,\n",
    "                 np.sqrt(252.0)*mu_m.pnl2/sig_m.pnl2-np.sqrt(252.0)*mu_m.pnl1/sig_m.pnl1]\n",
    "        \n",
    "        Q.append(row_m)\n",
    "        #data.iloc[m] = row_m\n",
    "        \n",
    "    lbl = ['mu1','sig1','shp1','mu2','sig2','shp2','dshp']    \n",
    "    data = pd.DataFrame(Q,index=np.arange(MC),columns=lbl)    \n",
    "\n",
    "    return data\n",
    "\n",
    "data = bootstrap(pnl)  "
   ]
  },
  {
   "cell_type": "markdown",
   "metadata": {},
   "source": [
    "Let's display the sample distributions, both in a table and in histograms."
   ]
  },
  {
   "cell_type": "code",
   "execution_count": 8,
   "metadata": {},
   "outputs": [
    {
     "name": "stdout",
     "output_type": "stream",
     "text": [
      "           mean          SE        Z\n",
      "mu1   0.0629056  0.00767222  8.19914\n",
      "sig1   0.247676  0.00522196  47.4297\n",
      "shp1    4.03371    0.499986  8.06765\n",
      "mu2   0.0727402  0.00797396  9.12222\n",
      "sig2   0.248029  0.00533857  46.4599\n",
      "shp2    4.65796     0.52196  8.92398\n",
      "dshp   0.624253    0.362563  1.72178\n"
     ]
    },
    {
     "data": {
      "image/png": "[encoded data removed]",
      "text/plain": [
       "<Figure size 936x360 with 3 Axes>"
      ]
     },
     "metadata": {
      "needs_background": "light"
     },
     "output_type": "display_data"
    }
   ],
   "source": [
    "def verticals(summ,ax,i,lbl):\n",
    "    \n",
    "    ax[i].axvline(summ.at['mean',lbl],color='k',linestyle='--')\n",
    "    ax[i].axvline(summ.at['mean',lbl]-summ.at['SE',lbl],color='k',linestyle='--')\n",
    "    ax[i].axvline(summ.at['mean',lbl]-2*summ.at['SE',lbl],color='k',linestyle='--')\n",
    "    ax[i].axvline(summ.at['mean',lbl]+summ.at['SE',lbl],color='k',linestyle='--')\n",
    "    ax[i].axvline(summ.at['mean',lbl]+2*summ.at['SE',lbl],color='k',linestyle='--')\n",
    "\n",
    "def bootstrap_plot(data):\n",
    "    \n",
    "    means = data.mean()\n",
    "    lbl = data.columns\n",
    "    MC = data.shape[0]\n",
    "    \n",
    "    summ = pd.DataFrame(None,index=['mean','SE','Z'],columns=lbl)\n",
    "    for l in lbl:\n",
    "        \n",
    "        vm = means[l]\n",
    "        vset = np.array(data[l].values)\n",
    "        summ.at['mean',l] = vm\n",
    "        summ.at['SE',l] = np.sqrt(np.dot(vset-vm,vset-vm)/(MC-1))\n",
    "        summ.at['Z',l] = summ.at['mean',l]/summ.at['SE',l]\n",
    "        \n",
    "    print(summ.T)\n",
    "    \n",
    "    ################################\n",
    "    \n",
    "    fig, ax = plt.subplots(1,3)\n",
    "    ax[0].hist(data['shp1'],bins=20,facecolor='green',edgecolor='black', linewidth=1.2, alpha=0.5)\n",
    "    ax[1].hist(data['shp2'],bins=20,facecolor='red',edgecolor='black', linewidth=1.2, alpha=0.5)\n",
    "    ax[2].hist(data['dshp'],bins=20,facecolor='blue',edgecolor='black', linewidth=1.2, alpha=0.5)\n",
    "    ax[0].set_title('Sharpe 1',fontsize=8)\n",
    "    ax[0].set_ylabel('# Observations',fontsize=8)\n",
    "    ax[1].set_title('Sharpe 2',fontsize=8)\n",
    "    ax[2].set_title('Sharpe Difference',fontsize=8)\n",
    "    verticals(summ,ax,0,'shp1')\n",
    "    verticals(summ,ax,1,'shp2')\n",
    "    verticals(summ,ax,2,'dshp')\n",
    "    \n",
    "    fig.set_size_inches(13,5)\n",
    "    \n",
    "bootstrap_plot(data)    "
   ]
  },
  {
   "cell_type": "markdown",
   "metadata": {},
   "source": [
    "## Conclusion"
   ]
  },
  {
   "cell_type": "markdown",
   "metadata": {},
   "source": [
    "The estimated Sharpe ratios cover the population paramaters. Indeed we strongly reject the null hypothesis that the Sharpe ratios are zero. Although the second (population) Sharpe ratio is larger than the first (population) Sharpe ratio, we fail to reject the null hypothesis that they are equal when we do the sampling."
   ]
  },
  {
   "cell_type": "code",
   "execution_count": null,
   "metadata": {},
   "outputs": [],
   "source": []
  }
 ],
 "metadata": {
  "kernelspec": {
   "display_name": "Python 3",
   "language": "python",
   "name": "python3"
  },
  "language_info": {
   "codemirror_mode": {
    "name": "ipython",
    "version": 3
   },
   "file_extension": ".py",
   "mimetype": "text/x-python",
   "name": "python",
   "nbconvert_exporter": "python",
   "pygments_lexer": "ipython3",
   "version": "3.7.6"
  }
 },
 "nbformat": 4,
 "nbformat_minor": 4
}
